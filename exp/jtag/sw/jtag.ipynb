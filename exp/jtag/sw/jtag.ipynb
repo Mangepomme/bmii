{
 "cells": [
  {
   "cell_type": "code",
   "execution_count": 1,
   "metadata": {
    "collapsed": true
   },
   "outputs": [],
   "source": [
    "import bmii\n",
    "b = bmii.BMII()"
   ]
  },
  {
   "cell_type": "code",
   "execution_count": 2,
   "metadata": {
    "collapsed": false
   },
   "outputs": [],
   "source": [
    "from bmii.modules.jtag import JTAG\n",
    "jtag = JTAG()\n",
    "b.add_module(jtag)\n",
    "\n",
    "b.ioctl.sb.pins.IO10 += jtag.iomodule.iosignals.TMS\n",
    "b.ioctl.sb.pins.IO11 += jtag.iomodule.iosignals.TCK\n",
    "b.ioctl.sb.pins.IO12 += jtag.iomodule.iosignals.TRST\n",
    "b.ioctl.sb.pins.IO13 += jtag.iomodule.iosignals.TDI\n",
    "b.ioctl.sb.pins.IO21 += jtag.iomodule.iosignals.TDO"
   ]
  },
  {
   "cell_type": "code",
   "execution_count": 8,
   "metadata": {
    "collapsed": false,
    "scrolled": true
   },
   "outputs": [
    {
     "name": "stdout",
     "output_type": "stream",
     "text": [
      "0x0: northbridge\n",
      "\t0x0: IDCODE (CtrlRegDir.RDONLY)\n",
      "\t0x1: SCRATCH (CtrlRegDir.RDWR)\n",
      "0x1: southbridge\n",
      "\t0x0: PINDIR1L (CtrlRegDir.RDWR)\n",
      "\t0x1: PINDIR1H (CtrlRegDir.RDWR)\n",
      "\t0x2: PINDIR2L (CtrlRegDir.RDWR)\n",
      "\t0x3: PINDIR2H (CtrlRegDir.RDWR)\n",
      "\t0x4: PINSCAN1L (CtrlRegDir.RDONLY)\n",
      "\t0x5: PINSCAN1H (CtrlRegDir.RDONLY)\n",
      "\t0x6: PINSCAN2L (CtrlRegDir.RDONLY)\n",
      "\t0x7: PINSCAN2H (CtrlRegDir.RDONLY)\n",
      "\t0x8: PINSCANMISC (CtrlRegDir.RDONLY)\n",
      "\t0x9: PINMUX1L (CtrlRegDir.RDWR)\n",
      "\t0xa: PINMUX1H (CtrlRegDir.RDWR)\n",
      "\t0xb: PINMUX2L (CtrlRegDir.RDWR)\n",
      "\t0xc: PINMUX2H (CtrlRegDir.RDWR)\n",
      "\t0xd: PINDIRMUX1L (CtrlRegDir.RDWR)\n",
      "\t0xe: PINDIRMUX1H (CtrlRegDir.RDWR)\n",
      "\t0xf: PINDIRMUX2L (CtrlRegDir.RDWR)\n",
      "\t0x10: PINDIRMUX2H (CtrlRegDir.RDWR)\n",
      "\t0x11: PINMUXMISC (CtrlRegDir.RDWR)\n",
      "\t0x12: PINOUT1L (CtrlRegDir.RDWR)\n",
      "\t0x13: PINOUT1H (CtrlRegDir.RDWR)\n",
      "\t0x14: PINOUT2L (CtrlRegDir.RDWR)\n",
      "\t0x15: PINOUT2H (CtrlRegDir.RDWR)\n",
      "\t0x16: PINOUTMISC (CtrlRegDir.RDWR)\n",
      "0x2: JTAG\n",
      "\t0x0: STATE (CtrlRegDir.RDONLY)\n",
      "\t0x1: TDR (CtrlRegDir.WRONLY)\n",
      "\t0x2: RDR (CtrlRegDir.RDONLY)\n",
      "\t0x3: CTRL (CtrlRegDir.WRONLY)\n"
     ]
    }
   ],
   "source": [
    "b.list_modules()"
   ]
  },
  {
   "cell_type": "code",
   "execution_count": 3,
   "metadata": {
    "collapsed": false,
    "scrolled": true
   },
   "outputs": [
    {
     "data": {
      "text/plain": [
       "'0x20a60dd'"
      ]
     },
     "execution_count": 3,
     "metadata": {},
     "output_type": "execute_result"
    }
   ],
   "source": [
    "# IDCODE Altera\n",
    "jtag.reset()\n",
    "jtag.irwrite(0b110, 10)\n",
    "hex(jtag.drread(32))"
   ]
  },
  {
   "cell_type": "code",
   "execution_count": 9,
   "metadata": {
    "collapsed": false
   },
   "outputs": [
    {
     "data": {
      "text/plain": [
       "'0xffffffff'"
      ]
     },
     "execution_count": 9,
     "metadata": {},
     "output_type": "execute_result"
    }
   ],
   "source": [
    "# IDCODE VLV2\n",
    "jtag.reset()\n",
    "jtag.irwrite(0x02, 8)\n",
    "hex(jtag.drread(32))"
   ]
  }
 ],
 "metadata": {
  "kernelspec": {
   "display_name": "Python 3",
   "language": "python",
   "name": "python3"
  },
  "language_info": {
   "codemirror_mode": {
    "name": "ipython",
    "version": 3
   },
   "file_extension": ".py",
   "mimetype": "text/x-python",
   "name": "python",
   "nbconvert_exporter": "python",
   "pygments_lexer": "ipython3",
   "version": "3.5.1+"
  }
 },
 "nbformat": 4,
 "nbformat_minor": 0
}
